{
 "cells": [
  {
   "cell_type": "code",
   "execution_count": 1,
   "id": "b2304eee",
   "metadata": {},
   "outputs": [
    {
     "name": "stdout",
     "output_type": "stream",
     "text": [
      "CSV datoteka je uspješno pretvorena u Excel datoteku: sstudent-mat.xlsx\n"
     ]
    }
   ],
   "source": [
    "import pandas as pd\n",
    "\n",
    "# Putanja do CSV datoteke\n",
    "csv_file_path = 'student-mat.csv'\n",
    "\n",
    "# Učitaj CSV datoteku\n",
    "data = pd.read_csv(csv_file_path)\n",
    "\n",
    "# Spremi podatke kao Excel datoteku\n",
    "excel_file_path = 'sstudent-mat.xlsx'\n",
    "data.to_excel(excel_file_path, index=False)\n",
    "\n",
    "print(f\"CSV datoteka je uspješno pretvorena u Excel datoteku: {excel_file_path}\")\n"
   ]
  },
  {
   "cell_type": "code",
   "execution_count": null,
   "id": "29a3db8d",
   "metadata": {},
   "outputs": [],
   "source": []
  }
 ],
 "metadata": {
  "kernelspec": {
   "display_name": "Python 3 (ipykernel)",
   "language": "python",
   "name": "python3"
  },
  "language_info": {
   "codemirror_mode": {
    "name": "ipython",
    "version": 3
   },
   "file_extension": ".py",
   "mimetype": "text/x-python",
   "name": "python",
   "nbconvert_exporter": "python",
   "pygments_lexer": "ipython3",
   "version": "3.9.12"
  }
 },
 "nbformat": 4,
 "nbformat_minor": 5
}
